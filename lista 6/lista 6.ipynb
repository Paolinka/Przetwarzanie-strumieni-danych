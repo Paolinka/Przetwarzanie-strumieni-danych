{
 "cells": [
  {
   "cell_type": "markdown",
   "id": "bea34103",
   "metadata": {},
   "source": [
    "# LISTA 6"
   ]
  },
  {
   "cell_type": "code",
   "execution_count": 1,
   "id": "36de88a7",
   "metadata": {},
   "outputs": [],
   "source": [
    "import numpy as np\n",
    "import matplotlib.pyplot as plt\n",
    "import pandas as pd\n",
    "from scipy.special import diric\n",
    "import ipywidgets as widgets\n",
    "from IPython.display import display\n",
    "from scipy.signal import chirp, square, sawtooth"
   ]
  },
  {
   "cell_type": "markdown",
   "id": "66d632cd",
   "metadata": {},
   "source": [
    "### Zadanie 1\n",
    "Przygotuj w Pythonie kod, który przedstawi na wykresie okno Hamminga, Hanna, Blackmana oraz Dirichleta oraz ich widma amplitudowe (pakiet SciPy)."
   ]
  },
  {
   "cell_type": "code",
   "execution_count": 2,
   "id": "a2e85e13",
   "metadata": {},
   "outputs": [
    {
     "data": {
      "application/vnd.jupyter.widget-view+json": {
       "model_id": "f87e867fd7af48ec9665a7f6d353a957",
       "version_major": 2,
       "version_minor": 0
      },
      "text/plain": [
       "interactive(children=(IntSlider(value=1000, description='M - próbki', max=2000, min=30, step=10), IntSlider(va…"
      ]
     },
     "metadata": {},
     "output_type": "display_data"
    }
   ],
   "source": [
    "def plot_windows(m, n):\n",
    "    hamming_window = np.hamming(m)\n",
    "    hann_window = np.hanning(m)\n",
    "    blackman_window = np.blackman(m)\n",
    "    dirichlet_window = diric(np.linspace(-np.pi, np.pi, m), n)\n",
    "\n",
    "    windows = {\n",
    "    'Hamming': hamming_window,\n",
    "    'Hann': hann_window,\n",
    "    'Blackman': blackman_window,\n",
    "    'Dirichlet': dirichlet_window   \n",
    "    }\n",
    "\n",
    "    for label, win in windows.items():\n",
    "        plt.plot(win, label=label)\n",
    "    plt.xlabel('Liczba próbek')\n",
    "    plt.ylabel('Amplituda')\n",
    "    plt.legend()\n",
    "    plt.title(f'Typowe funkcje okien czasowych dla M = {m}')\n",
    "\n",
    "    # Widma amplitudowe\n",
    "    \n",
    "    for label, win in windows.items():\n",
    "        widmo = np.fft.fft(win)\n",
    "        widmo_amp_pelne = np.abs(widmo)\n",
    "\n",
    "        widmo_amp_rzecz = np.abs(np.fft.rfft(win)) / (len(win)/2)\n",
    "        f_widmo = np.fft.rfftfreq(len(win), 1/m)\n",
    "\n",
    "        widmo_db = 20 * np.log10(widmo_amp_rzecz)\n",
    "\n",
    "        plt.figure(figsize=(10, 4))\n",
    "        plt.subplot(1, 3, 1)\n",
    "        plt.plot(widmo_amp_pelne)\n",
    "        plt.xlabel('indeks widma')\n",
    "        plt.ylabel('amplituda widma')\n",
    "        plt.title(f'Pełne widmo dla okna {label}a')\n",
    "        plt.grid()\n",
    "        \n",
    "        plt.subplot(1, 3, 2)\n",
    "        plt.plot(f_widmo, widmo_amp_rzecz)\n",
    "        plt.xlabel('częstotliwość [Hz]')\n",
    "        plt.ylabel('amplituda widma')\n",
    "        plt.title(f'Widmo \"rzeczywiste\" dla okna {label}a')\n",
    "        plt.grid()\n",
    "        plt.tight_layout()\n",
    "        \n",
    "\n",
    "        plt.subplot(1, 3, 3)\n",
    "        plt.plot(f_widmo, widmo_db)\n",
    "        plt.title(f\"Widmo okna {label}a (dB)\")\n",
    "        plt.xlabel(\"częstotliwość [Hz]\")\n",
    "        plt.ylabel(\"amplituda [dB]\")\n",
    "        # plt.ylim(-100, 5)\n",
    "        plt.grid()\n",
    "        plt.tight_layout()\n",
    "        \n",
    "\n",
    "\n",
    "\n",
    "m_slider = widgets.IntSlider(min=30, max=2000, step=10, value=1000, description=\"M - próbki\")\n",
    "n_slider = widgets.IntSlider(min=3, max=30, step=1, value=21, description=\"n (Dirichlet)\")\n",
    "\n",
    "display(widgets.interactive(plot_windows, m=m_slider, n=n_slider))"
   ]
  },
  {
   "cell_type": "markdown",
   "id": "552a8eea",
   "metadata": {},
   "source": [
    "### Zadanie 2\n",
    "Przygotuj w Pythonie kod, który wyznaczy widmo sygnału sinusoidalnego o trzech różnych częstotliwościach przy zastosowanych oknach: Hamminga, Hanna, Blackmana oraz Dirichleta"
   ]
  },
  {
   "cell_type": "code",
   "execution_count": 3,
   "id": "c0ac98eb",
   "metadata": {},
   "outputs": [],
   "source": [
    "def generate_signals(f=5, fs=1000):\n",
    "    # Parametry sygnału\n",
    "    t = np.linspace(0, 1, fs, endpoint=False)  # Oś czasu 1 sekunda\n",
    "\n",
    "    # a) Sygnał sinusoidalny\n",
    "    sin_wave = np.sin(2 * np.pi * f * t)  # 5 Hz\n",
    "\n",
    "    # b) Sygnał prostokątny\n",
    "    square_wave = square(2 * np.pi * f * t)  # 5 Hz\n",
    "\n",
    "    # c) Sygnał piłokształtny\n",
    "    sawtooth_wave = sawtooth(2 * np.pi * f * t)  # 5 Hz\n",
    "\n",
    "    # d) Sygnał świergotliwy (chirp)\n",
    "    chirp_wave = chirp(t, f0=f, f1=5*f, t1=1, method='linear')\n",
    "\n",
    "    return t, [sin_wave, square_wave, sawtooth_wave, chirp_wave]"
   ]
  },
  {
   "cell_type": "code",
   "execution_count": 4,
   "id": "3feae951",
   "metadata": {},
   "outputs": [
    {
     "data": {
      "application/vnd.jupyter.widget-view+json": {
       "model_id": "e33b55a36cd845debdea61ac8c53d7ea",
       "version_major": 2,
       "version_minor": 0
      },
      "text/plain": [
       "interactive(children=(IntSlider(value=1000, description='M - próbki', max=2000, min=30, step=10), IntSlider(va…"
      ]
     },
     "metadata": {},
     "output_type": "display_data"
    }
   ],
   "source": [
    "def signal_in_windows(m, n, f):\n",
    "    t, signals = generate_signals(f, m)\n",
    "\n",
    "    hamming_window = np.hamming(m)\n",
    "    hann_window = np.hanning(m)\n",
    "    blackman_window = np.blackman(m)\n",
    "    dirichlet_window = diric(np.linspace(-np.pi, np.pi, m), n)\n",
    "\n",
    "    windows = {\n",
    "    'Hamming': hamming_window,\n",
    "    'Hann': hann_window,\n",
    "    'Blackman': blackman_window,\n",
    "    'Dirichlet': dirichlet_window   \n",
    "    }\n",
    "\n",
    "    signal_names = ['sinus', 'prostokątny', 'piłokształtny', 'świergotliwy']\n",
    "\n",
    "    for i, signal in enumerate(signals):\n",
    "        for label, win in windows.items():\n",
    "            widmo_amp_rzecz = np.abs(np.fft.rfft(signal)) / (len(signal)/2)\n",
    "            widmo_okno = np.abs(np.fft.rfft(signal * win)) / (len(signal)/2)\n",
    "            f_widmo = np.fft.rfftfreq(len(signal), 1/m)\n",
    "\n",
    "            plt.plot(f_widmo, 20 * np.log10(widmo_okno), label=label+'a')\n",
    "            \n",
    "        plt.plot(f_widmo, 20 * np.log10(widmo_amp_rzecz), label='prostokątne')\n",
    "        plt.xlabel('częstotliwość [Hz]')\n",
    "        plt.ylabel('amplituda [dB]')\n",
    "        plt.suptitle('Widmo dla różnych typów okna')\n",
    "        plt.title(f'Sygnał: {signal_names[i]}. Częstotliwość: f0={f}Hz, fk={5*f}Hz' if signal_names[i] == 'świergotliwy'\n",
    "                  else f'Sygnał: {signal_names[i]}. Częstotliwość: {f}Hz')\n",
    "        plt.legend(title='Rodzaj okna')\n",
    "        plt.show()\n",
    "\n",
    "\n",
    "m_slider = widgets.IntSlider(min=30, max=2000, step=10, value=1000, description=\"M - próbki\")\n",
    "n_slider = widgets.IntSlider(min=3, max=30, step=1, value=21, description=\"n (Dirichlet)\")\n",
    "f_slider = widgets.IntSlider(min=1, max=20, step=1, value=5, description=\"f [Hz]\")\n",
    "\n",
    "display(widgets.interactive(signal_in_windows, m=m_slider, n=n_slider, f=f_slider))"
   ]
  },
  {
   "cell_type": "markdown",
   "id": "ce699f70",
   "metadata": {},
   "source": [
    "### Zadanie 3\n",
    "Przygotuj w Pythonie kod, który wyznaczy widmo sygnału sinusoidalnego z wykorzystaniem Szybkiej Transformaty Fouriera (np. pakiet SciPy oferuje funkcję fft)"
   ]
  },
  {
   "cell_type": "code",
   "execution_count": 5,
   "id": "13c89f8f",
   "metadata": {},
   "outputs": [
    {
     "data": {
      "application/vnd.jupyter.widget-view+json": {
       "model_id": "3a168e1807ea49d4a95d0fe7ddcdceda",
       "version_major": 2,
       "version_minor": 0
      },
      "text/plain": [
       "interactive(children=(IntSlider(value=5, description='f [Hz]', max=20, min=1), IntSlider(value=200, descriptio…"
      ]
     },
     "metadata": {},
     "output_type": "display_data"
    }
   ],
   "source": [
    "def widmo_sygnalu(f=5, fs=1000):\n",
    "    \n",
    "    t, signals = generate_signals(f, fs)\n",
    "    labels = ['sinus', 'prostokątny', 'piłokształtny', 'świergotliwy']\n",
    "    \n",
    "    for i, signal in enumerate(signals):\n",
    "        widmo = np.fft.fft(signal)\n",
    "        widmo_amp_pelne = np.abs(widmo)\n",
    "\n",
    "        widmo_amp_rzecz = np.abs(np.fft.rfft(signal)) / (len(signal)/2)\n",
    "        f_widmo = np.fft.rfftfreq(len(signal), 1/fs)\n",
    "\n",
    "        plt.figure(figsize=(8, 6))\n",
    "        plt.scatter(t, signal, color='red', label='dane')\n",
    "        plt.plot(t, signal, linewidth=1, label='wykres z danych')\n",
    "        plt.xlabel(\"Czas [s]\")\n",
    "        plt.ylabel(\"Amplituda\")\n",
    "        plt.legend()\n",
    "        plt.suptitle(f'Sygnał {labels[i]}')\n",
    "        plt.title(f\"f0={f}Hz, fk={5*f}Hz, fs={fs}Hz\" if labels[i] == 'świergotliwy' else f\"f={f}Hz, fs={fs}Hz\")\n",
    "        plt.grid()\n",
    "        \n",
    "\n",
    "        plt.figure(figsize=(10, 4))\n",
    "        plt.subplot(1, 2, 1)\n",
    "        plt.plot(widmo_amp_pelne)\n",
    "        plt.xlabel('indeks widma')\n",
    "        plt.ylabel('amplituda widma')\n",
    "        plt.suptitle(f'Sygnał {labels[i]}, f={f}Hz')\n",
    "        plt.title(f'Pełne widmo sygnału')\n",
    "        plt.grid()\n",
    "\n",
    "        plt.subplot(1, 2, 2)\n",
    "        plt.plot(f_widmo, widmo_amp_rzecz)\n",
    "        plt.xlabel('częstotliwość [Hz]')\n",
    "        plt.ylabel('amplituda widma')\n",
    "        plt.title(f'Widmo \"rzeczywiste\" sygnału')\n",
    "        plt.grid()\n",
    "        plt.tight_layout()\n",
    "        \n",
    "    \n",
    "\n",
    "\n",
    "f_slider = widgets.IntSlider(min=1, max=20, step=1, value=5, description=\"f [Hz]\")\n",
    "fs_slider = widgets.IntSlider(min=10, max=1000, step=10, value=200, description=\"fs [Hz]\")\n",
    "\n",
    "display(widgets.interactive(widmo_sygnalu, f=f_slider, fs=fs_slider))"
   ]
  },
  {
   "cell_type": "markdown",
   "id": "4ab5fb32",
   "metadata": {},
   "source": [
    "### Zadanie 4\n",
    "Przygotuj w Pythonie kod, który wyznaczy widmo dowolnego sygnału załadowanego z pliku np. csv."
   ]
  },
  {
   "cell_type": "code",
   "execution_count": 7,
   "id": "b63fe421",
   "metadata": {},
   "outputs": [
    {
     "data": {
      "image/png": "[encoded data removed]",
      "text/plain": [
       "<Figure size 1000x400 with 2 Axes>"
      ]
     },
     "metadata": {},
     "output_type": "display_data"
    }
   ],
   "source": [
    "def widmo_sygnalu_csv(signal, label = '', fs=1000):\n",
    "    \n",
    "    \n",
    "    widmo = np.fft.fft(signal)\n",
    "    widmo_amp_pelne = np.abs(widmo)\n",
    "\n",
    "    widmo_amp_rzecz = np.abs(np.fft.rfft(signal)) / (len(signal)/2)\n",
    "    f_widmo = np.fft.rfftfreq(len(signal), 1/fs)\n",
    "\n",
    "    plt.figure(figsize=(10, 4))\n",
    "    plt.subplot(1, 2, 1)\n",
    "    plt.plot(widmo_amp_pelne)\n",
    "    plt.xlabel('indeks widma')\n",
    "    plt.ylabel('amplituda widma')\n",
    "    plt.suptitle(f'Sygnał {label}')\n",
    "    plt.title(f'Pełne widmo sygnału')\n",
    "    plt.grid()\n",
    "\n",
    "    plt.subplot(1, 2, 2)\n",
    "    plt.plot(f_widmo, widmo_amp_rzecz)\n",
    "    plt.xlabel('częstotliwość [Hz]')\n",
    "    plt.ylabel('amplituda widma')\n",
    "    plt.title(f'Widmo \"rzeczywiste\" sygnału')\n",
    "    plt.grid()\n",
    "    plt.tight_layout()\n",
    "\n",
    "\n",
    "plik = str(input('Podaj nazwę pliku: '))\n",
    "signal = pd.read_csv(plik)\n",
    "widmo_sygnalu_csv(signal['amplituda'], label=plik.replace('.csv', ''))"
   ]
  }
 ],
 "metadata": {
  "kernelspec": {
   "display_name": "venv",
   "language": "python",
   "name": "python3"
  },
  "language_info": {
   "codemirror_mode": {
    "name": "ipython",
    "version": 3
   },
   "file_extension": ".py",
   "mimetype": "text/x-python",
   "name": "python",
   "nbconvert_exporter": "python",
   "pygments_lexer": "ipython3",
   "version": "3.11.5"
  }
 },
 "nbformat": 4,
 "nbformat_minor": 5
}

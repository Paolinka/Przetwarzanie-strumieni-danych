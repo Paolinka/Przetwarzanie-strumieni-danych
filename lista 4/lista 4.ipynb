{
 "cells": [
  {
   "cell_type": "markdown",
   "metadata": {},
   "source": [
    "# Lista 4"
   ]
  },
  {
   "cell_type": "code",
   "execution_count": 2,
   "metadata": {},
   "outputs": [],
   "source": [
    "import numpy as np\n",
    "import matplotlib.pyplot as plt\n",
    "import ipywidgets as widgets\n",
    "from IPython.display import display\n",
    "from scipy.interpolate import interp1d"
   ]
  },
  {
   "cell_type": "markdown",
   "metadata": {},
   "source": [
    "### Zadanie 1\n",
    "Przygotuj w Pythonie kod, który wygeneruje sygnał sinusoidalny o możliwej do zmiany częstotliwości f oraz częstotliwości próbkowania fs. Przygotuj wykres z sygnałem i próbkami pobranymi z zadaną częstotliwością próbkowania fs. "
   ]
  },
  {
   "cell_type": "code",
   "execution_count": null,
   "metadata": {},
   "outputs": [
    {
     "data": {
      "application/vnd.jupyter.widget-view+json": {
       "model_id": "5e0acedadda64a6a82370feec659992b",
       "version_major": 2,
       "version_minor": 0
      },
      "text/plain": [
       "interactive(children=(IntSlider(value=5, description='f [Hz]', max=20, min=1), IntSlider(value=200, descriptio…"
      ]
     },
     "metadata": {},
     "output_type": "display_data"
    }
   ],
   "source": [
    "def plot_sinus(f=5, fs=1000):\n",
    "    \n",
    "    t = np.linspace(0, 1, fs, endpoint=False)\n",
    "    sin_wave = np.sin(2 * np.pi * f * t)\n",
    "\n",
    "    t_true_sin = np.linspace(0, 1, 1000, endpoint=False)\n",
    "    true_sin = np.sin(2 * np.pi * f * t_true_sin)\n",
    "    \n",
    "\n",
    "    plt.figure(figsize=(12, 8))\n",
    "    plt.scatter(t, sin_wave, color='red')\n",
    "    plt.plot(t_true_sin, true_sin, linewidth=2, alpha=0.5, label=\"'prawdziwy' sinus\")\n",
    "    plt.plot(t, sin_wave, linewidth=1, label=\"sinus z punktów\")\n",
    "    plt.xlabel(\"Czas [s]\")\n",
    "    plt.ylabel(\"Amplituda\")\n",
    "    plt.title(f\"Sygnał sinusoidalny: f={f}Hz, fs={fs}Hz\")\n",
    "    plt.legend()\n",
    "    plt.grid()\n",
    "    plt.show()\n",
    "\n",
    "f_slider = widgets.IntSlider(min=1, max=20, step=1, value=5, description=\"f [Hz]\")\n",
    "fs_slider = widgets.IntSlider(min=10, max=1000, step=10, value=200, description=\"fs [Hz]\")\n",
    "\n",
    "display(widgets.interactive(plot_sinus, f=f_slider, fs=fs_slider))\n"
   ]
  },
  {
   "cell_type": "markdown",
   "metadata": {},
   "source": [
    "### Zadanie 2\n",
    "Przygotuj w Pythonie kod, który dokona odcinkami liniowej interpolacji (np. funkcją piecewise dostępną w pakiecie numpy) danych zebranych w zadaniu 1. Wyświetl przebieg błędu interpolacji"
   ]
  },
  {
   "cell_type": "code",
   "execution_count": null,
   "metadata": {},
   "outputs": [
    {
     "data": {
      "application/vnd.jupyter.widget-view+json": {
       "model_id": "6d7529f5ce9d4c0b97aeb788c2067c00",
       "version_major": 2,
       "version_minor": 0
      },
      "text/plain": [
       "interactive(children=(IntSlider(value=9, description='f [Hz]', max=20, min=1), IntSlider(value=100, descriptio…"
      ]
     },
     "metadata": {},
     "output_type": "display_data"
    }
   ],
   "source": [
    "def plot_interpolation(f=5, fs=1000):\n",
    "    t = np.linspace(0, 1, fs, endpoint=False)\n",
    "    sin_wave = np.sin(2 * np.pi * f * t)\n",
    "    \n",
    "    # Interpolacja liniowa\n",
    "    t_interp = np.linspace(0, 1, 10 * fs, endpoint=True) \n",
    "    interpolator = interp1d(t, sin_wave, kind='linear', fill_value=\"extrapolate\")\n",
    "    sin_wave_interp = interpolator(t_interp)\n",
    "    \n",
    "    # Obliczenie błędu interpolacji\n",
    "    true_signal = np.sin(2 * np.pi * f * t_interp)\n",
    "    error = np.abs(true_signal - sin_wave_interp)\n",
    "    \n",
    "    plt.figure(figsize=(12, 8))\n",
    "    \n",
    "    # Wykres interpolowanego sygnału\n",
    "    plt.subplot(2, 1, 1)\n",
    "    plt.scatter(t, sin_wave, color='red', label='Próbki')\n",
    "    plt.plot(t_interp, sin_wave_interp, linewidth=1, label='Interpolacja sygnału')\n",
    "    plt.xlabel(\"Czas [s]\")\n",
    "    plt.ylabel(\"Amplituda\")\n",
    "    plt.title(\"Interpolacja liniowa sygnału sinusoidalnego\")\n",
    "    plt.legend()\n",
    "    plt.grid()\n",
    "    \n",
    "    # Wykres błędu interpolacji\n",
    "    plt.subplot(2, 1, 2)\n",
    "    plt.plot(t_interp, error, color='purple')\n",
    "    plt.xlabel(\"Czas [s]\")\n",
    "    plt.ylabel(\"Błąd interpolacji\")\n",
    "    plt.title(\"Błąd interpolacji liniowej\")\n",
    "    plt.grid()\n",
    "    \n",
    "    plt.tight_layout()\n",
    "    plt.show()\n",
    "\n",
    "display(widgets.interactive(plot_interpolation, f=f_slider, fs=fs_slider))"
   ]
  },
  {
   "cell_type": "markdown",
   "metadata": {},
   "source": [
    "### Zadanie 3\n",
    "Przygotuj w Pythonie kod, który dokona interpolacji punktów z zadania 1 z wykorzystaniem równania Whittakera–Shannona.\n",
    "Wyświetl przebieg błędu interpolacji z wykorzystaniem równania Whittakera–Shannona."
   ]
  },
  {
   "cell_type": "code",
   "execution_count": null,
   "metadata": {},
   "outputs": [
    {
     "data": {
      "application/vnd.jupyter.widget-view+json": {
       "model_id": "358d77024846479e92c17c5e41270fd3",
       "version_major": 2,
       "version_minor": 0
      },
      "text/plain": [
       "interactive(children=(IntSlider(value=9, description='f [Hz]', max=20, min=1), IntSlider(value=100, descriptio…"
      ]
     },
     "metadata": {},
     "output_type": "display_data"
    }
   ],
   "source": [
    "# Funkcja Whittakera-Shannona do interpolacji\n",
    "def sinc_interp(x, t, T):\n",
    "    \"\"\"\n",
    "    Funkcja do interpolacji przy użyciu równania Whittakera-Shannona\n",
    "    x - próbki sygnału\n",
    "    t - czas, dla którego wykonujemy interpolację\n",
    "    T - okres próbkowania\n",
    "    \"\"\"\n",
    "    n = len(x)\n",
    "    # Obliczenie interpolacji\n",
    "    return np.sum(x * np.sinc((t[:, None] - np.arange(n) * T) / T), axis=-1)\n",
    "\n",
    "# Interpolacja i obliczenie błędu\n",
    "def plot_interpolation(f=5, fs=1000):\n",
    "    t = np.linspace(0, 1, fs, endpoint=False)  # Czas próbkowania\n",
    "    sin_wave = np.sin(2 * np.pi * f * t)  # Sygnał sinusoidalny\n",
    "    \n",
    "    # Interpolacja przy użyciu Whittakera-Shannona\n",
    "    T = 1 / fs  # Okres próbkowania\n",
    "    t_interp = np.linspace(0, 1, 10 * fs, endpoint=False)  # Czas interpolacji\n",
    "    sin_wave_interp = sinc_interp(sin_wave, t_interp, T)  # Interpolacja\n",
    "    \n",
    "    # Wizualizacja\n",
    "    plt.figure(figsize=(12, 8))\n",
    "    \n",
    "    # Wykres sygnału sinusoidalnego i interpolacji\n",
    "    plt.subplot(2, 1, 1)\n",
    "    plt.scatter(t, sin_wave, color='red', label='Próbki')\n",
    "    plt.plot(t_interp, sin_wave_interp, linewidth=1, label='Interpolowany sygnał')\n",
    "    plt.xlabel(\"Czas [s]\")\n",
    "    plt.ylabel(\"Amplituda\")\n",
    "    plt.title(f\"Interpolacja Whittakera-Shannona: f={f}Hz, fs={fs}Hz\")\n",
    "    plt.legend()\n",
    "    plt.grid()\n",
    "    \n",
    "    # Wykres błędu interpolacji\n",
    "    true_signal = np.sin(2 * np.pi * f * t_interp)  # Prawdziwy sygnał\n",
    "    error = np.abs(true_signal - sin_wave_interp)  # Błąd interpolacji\n",
    "    \n",
    "    plt.subplot(2, 1, 2)\n",
    "    plt.plot(t_interp, error, color='purple')\n",
    "    plt.xlabel(\"Czas [s]\")\n",
    "    plt.ylabel(\"Błąd interpolacji\")\n",
    "    plt.title(\"Błąd interpolacji Whittakera-Shannona\")\n",
    "    plt.grid()\n",
    "    \n",
    "    plt.tight_layout()\n",
    "    plt.show()\n",
    "\n",
    "display(widgets.interactive(plot_interpolation, f=f_slider, fs=fs_slider))\n"
   ]
  }
 ],
 "metadata": {
  "kernelspec": {
   "display_name": "venv",
   "language": "python",
   "name": "python3"
  },
  "language_info": {
   "codemirror_mode": {
    "name": "ipython",
    "version": 3
   },
   "file_extension": ".py",
   "mimetype": "text/x-python",
   "name": "python",
   "nbconvert_exporter": "python",
   "pygments_lexer": "ipython3",
   "version": "3.11.5"
  }
 },
 "nbformat": 4,
 "nbformat_minor": 2
}

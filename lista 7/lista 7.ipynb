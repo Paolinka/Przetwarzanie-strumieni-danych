{
 "cells": [
  {
   "cell_type": "markdown",
   "id": "a0a5ee98",
   "metadata": {},
   "source": [
    "# Lista 7"
   ]
  },
  {
   "cell_type": "code",
   "execution_count": 1,
   "id": "ced77d3b",
   "metadata": {},
   "outputs": [],
   "source": [
    "import pywt\n",
    "import numpy as np\n",
    "import matplotlib.pyplot as plt\n",
    "import ipywidgets as widgets\n",
    "from IPython.display import display\n",
    "from scipy.signal import chirp, square, sawtooth"
   ]
  },
  {
   "cell_type": "markdown",
   "id": "f998439b",
   "metadata": {},
   "source": [
    "### Zadanie 1\n",
    "Przygotuj kod w Pythonie, który wyświetli następujące typy falek: Haar, Daubechies, Symlets, Coiflets, Biortogonalna, Gaussian, Meksykański kapelusz, Morleta. W celu rozwiązania zadania można wykorzystać pakiet pywt"
   ]
  },
  {
   "cell_type": "code",
   "execution_count": 2,
   "id": "27b06a31",
   "metadata": {},
   "outputs": [
    {
     "data": {
      "application/vnd.jupyter.widget-view+json": {
       "model_id": "f67477d157104c04afb53a18e637bda4",
       "version_major": 2,
       "version_minor": 0
      },
      "text/plain": [
       "interactive(children=(IntSlider(value=5, description='stopień', max=15, min=2), Output()), _dom_classes=('widg…"
      ]
     },
     "metadata": {},
     "output_type": "display_data"
    },
    {
     "data": {
      "application/vnd.jupyter.widget-view+json": {
       "model_id": "7c8dec0be0c745d5a1f084dac51b753b",
       "version_major": 2,
       "version_minor": 0
      },
      "text/plain": [
       "interactive(children=(IntSlider(value=5, description='stopień', max=15, min=2), Output()), _dom_classes=('widg…"
      ]
     },
     "metadata": {},
     "output_type": "display_data"
    },
    {
     "data": {
      "application/vnd.jupyter.widget-view+json": {
       "model_id": "78a790f8805c4454b565abdf02a30052",
       "version_major": 2,
       "version_minor": 0
      },
      "text/plain": [
       "interactive(children=(IntSlider(value=5, description='stopień', max=15, min=2), Output()), _dom_classes=('widg…"
      ]
     },
     "metadata": {},
     "output_type": "display_data"
    },
    {
     "data": {
      "application/vnd.jupyter.widget-view+json": {
       "model_id": "8b0872e8a0ec46b290be486736537c83",
       "version_major": 2,
       "version_minor": 0
      },
      "text/plain": [
       "interactive(children=(IntSlider(value=5, description='stopień', max=15, min=2), Output()), _dom_classes=('widg…"
      ]
     },
     "metadata": {},
     "output_type": "display_data"
    },
    {
     "data": {
      "application/vnd.jupyter.widget-view+json": {
       "model_id": "82605e97d91d4bffa95662458e6485af",
       "version_major": 2,
       "version_minor": 0
      },
      "text/plain": [
       "interactive(children=(IntSlider(value=5, description='stopień', max=15, min=2), Output()), _dom_classes=('widg…"
      ]
     },
     "metadata": {},
     "output_type": "display_data"
    },
    {
     "data": {
      "application/vnd.jupyter.widget-view+json": {
       "model_id": "1dfb9d5d0fa54e989afc2a1bc2efce77",
       "version_major": 2,
       "version_minor": 0
      },
      "text/plain": [
       "interactive(children=(IntSlider(value=5, description='stopień', max=15, min=2), Output()), _dom_classes=('widg…"
      ]
     },
     "metadata": {},
     "output_type": "display_data"
    },
    {
     "data": {
      "application/vnd.jupyter.widget-view+json": {
       "model_id": "0e1bf2ddad0e44839e1bd40f2b9bb75b",
       "version_major": 2,
       "version_minor": 0
      },
      "text/plain": [
       "interactive(children=(IntSlider(value=5, description='stopień', max=15, min=2), Output()), _dom_classes=('widg…"
      ]
     },
     "metadata": {},
     "output_type": "display_data"
    },
    {
     "data": {
      "application/vnd.jupyter.widget-view+json": {
       "model_id": "ecdc0b5f2c354ef1a7c91370e9c9620b",
       "version_major": 2,
       "version_minor": 0
      },
      "text/plain": [
       "interactive(children=(IntSlider(value=5, description='stopień', max=15, min=2), Output()), _dom_classes=('widg…"
      ]
     },
     "metadata": {},
     "output_type": "display_data"
    }
   ],
   "source": [
    "def draw_wavelet(wavelet, label, level=5):\n",
    "    try:\n",
    "        # Pobierz dane falki\n",
    "        wavelet = pywt.Wavelet(wavelet)\n",
    "        result = wavelet.wavefun(level=level)\n",
    "\n",
    "    except ValueError:\n",
    "        wavelet = pywt.ContinuousWavelet(wavelet)\n",
    "        result = wavelet.wavefun(level=level)\n",
    "\n",
    "    plt.figure(figsize=(10, 4))\n",
    "\n",
    "    if len(result) == 3:\n",
    "        phi, psi, x = result\n",
    "\n",
    "        plt.subplot(1, 2, 1)\n",
    "        plt.plot(x, phi)\n",
    "        plt.title('Funkcja skalująca (phi)')\n",
    "        plt.grid()\n",
    "\n",
    "        plt.subplot(1, 2, 2)\n",
    "        plt.plot(x, psi)\n",
    "        plt.title('Funkcja falkowa (psi)')\n",
    "        plt.grid()\n",
    "        plt.suptitle(f'Falka: {label}')\n",
    "        plt.tight_layout()\n",
    "\n",
    "    if len(result) == 2:\n",
    "        psi, x = result\n",
    "\n",
    "        plt.plot(x, psi)\n",
    "        plt.title('Funkcja falkowa (psi)')\n",
    "        plt.grid()\n",
    "        plt.suptitle(f'Falka: {label}')\n",
    "        plt.tight_layout()\n",
    "\n",
    "\n",
    "\n",
    "\n",
    "\n",
    "falki = {\n",
    "    'Haar' : 'haar',\n",
    "    'Daubechies 2' : 'db2',\n",
    "    'Symlets 2' : 'sym2',\n",
    "    'Coiflets 2' : 'coif2',\n",
    "    'Biortogonalna' : 'bior1.3',\n",
    "    'Gaussian 2' : 'gaus2',\n",
    "    'Meksykański kapelusz' : 'mexh',\n",
    "    'Morleta' : 'morl'\n",
    "}\n",
    "\n",
    "\n",
    "lvl_slider = widgets.IntSlider(min=2, max=15, step=1, value=5, description=\"stopień\")\n",
    "\n",
    "for label, wavelet in falki.items():\n",
    "    display(widgets.interactive(draw_wavelet, label=widgets.fixed(label), wavelet=widgets.fixed(wavelet), level=lvl_slider))"
   ]
  },
  {
   "cell_type": "markdown",
   "id": "e71da2f5",
   "metadata": {},
   "source": [
    "### Zadanie 2\n",
    "Przygotuj kod w Pythonie, który wyświetli falkę Daubechies w różnych wersjach (db1, db2, itd.) i dla różnych parametrów. "
   ]
  },
  {
   "cell_type": "code",
   "execution_count": 3,
   "id": "85be1fff",
   "metadata": {},
   "outputs": [
    {
     "data": {
      "application/vnd.jupyter.widget-view+json": {
       "model_id": "1ca44bdcd9114fdab6b5867b2898d9df",
       "version_major": 2,
       "version_minor": 0
      },
      "text/plain": [
       "interactive(children=(IntSlider(value=5, description='stopień', max=15, min=2), Output()), _dom_classes=('widg…"
      ]
     },
     "metadata": {},
     "output_type": "display_data"
    },
    {
     "data": {
      "application/vnd.jupyter.widget-view+json": {
       "model_id": "f9503939626a4d7392efcd98e4dfaf1c",
       "version_major": 2,
       "version_minor": 0
      },
      "text/plain": [
       "interactive(children=(IntSlider(value=5, description='stopień', max=15, min=2), Output()), _dom_classes=('widg…"
      ]
     },
     "metadata": {},
     "output_type": "display_data"
    },
    {
     "data": {
      "application/vnd.jupyter.widget-view+json": {
       "model_id": "ebd6e166e32c4659802bfad38dcfca2b",
       "version_major": 2,
       "version_minor": 0
      },
      "text/plain": [
       "interactive(children=(IntSlider(value=5, description='stopień', max=15, min=2), Output()), _dom_classes=('widg…"
      ]
     },
     "metadata": {},
     "output_type": "display_data"
    },
    {
     "data": {
      "application/vnd.jupyter.widget-view+json": {
       "model_id": "2e9107438cae46c7ae224f8a32c80477",
       "version_major": 2,
       "version_minor": 0
      },
      "text/plain": [
       "interactive(children=(IntSlider(value=5, description='stopień', max=15, min=2), Output()), _dom_classes=('widg…"
      ]
     },
     "metadata": {},
     "output_type": "display_data"
    },
    {
     "data": {
      "application/vnd.jupyter.widget-view+json": {
       "model_id": "320fee97a63b4c1581d9dc4c37ae8aef",
       "version_major": 2,
       "version_minor": 0
      },
      "text/plain": [
       "interactive(children=(IntSlider(value=5, description='stopień', max=15, min=2), Output()), _dom_classes=('widg…"
      ]
     },
     "metadata": {},
     "output_type": "display_data"
    },
    {
     "data": {
      "application/vnd.jupyter.widget-view+json": {
       "model_id": "807bda18e68c4c97b8b557c27e596766",
       "version_major": 2,
       "version_minor": 0
      },
      "text/plain": [
       "interactive(children=(IntSlider(value=5, description='stopień', max=15, min=2), Output()), _dom_classes=('widg…"
      ]
     },
     "metadata": {},
     "output_type": "display_data"
    },
    {
     "data": {
      "application/vnd.jupyter.widget-view+json": {
       "model_id": "d6f6429930f54760a944d40169f1762f",
       "version_major": 2,
       "version_minor": 0
      },
      "text/plain": [
       "interactive(children=(IntSlider(value=5, description='stopień', max=15, min=2), Output()), _dom_classes=('widg…"
      ]
     },
     "metadata": {},
     "output_type": "display_data"
    },
    {
     "data": {
      "application/vnd.jupyter.widget-view+json": {
       "model_id": "2aa06f035bd447d28bfb708058dd2011",
       "version_major": 2,
       "version_minor": 0
      },
      "text/plain": [
       "interactive(children=(IntSlider(value=5, description='stopień', max=15, min=2), Output()), _dom_classes=('widg…"
      ]
     },
     "metadata": {},
     "output_type": "display_data"
    },
    {
     "data": {
      "application/vnd.jupyter.widget-view+json": {
       "model_id": "2124c657452346c3944f4eb0256eb896",
       "version_major": 2,
       "version_minor": 0
      },
      "text/plain": [
       "interactive(children=(IntSlider(value=5, description='stopień', max=15, min=2), Output()), _dom_classes=('widg…"
      ]
     },
     "metadata": {},
     "output_type": "display_data"
    },
    {
     "data": {
      "application/vnd.jupyter.widget-view+json": {
       "model_id": "e412d15ed3ea467eaeac2508912a52a6",
       "version_major": 2,
       "version_minor": 0
      },
      "text/plain": [
       "interactive(children=(IntSlider(value=5, description='stopień', max=15, min=2), Output()), _dom_classes=('widg…"
      ]
     },
     "metadata": {},
     "output_type": "display_data"
    },
    {
     "data": {
      "application/vnd.jupyter.widget-view+json": {
       "model_id": "cfeb13999e814a27b72a227e2694a819",
       "version_major": 2,
       "version_minor": 0
      },
      "text/plain": [
       "interactive(children=(IntSlider(value=5, description='stopień', max=15, min=2), Output()), _dom_classes=('widg…"
      ]
     },
     "metadata": {},
     "output_type": "display_data"
    }
   ],
   "source": [
    "wersje = {\n",
    "    'Daubechies' : {'Daubechies 1' : 'db1', 'Daubechies 2' : 'db2', 'Daubechies 3' : 'db3', 'Daubechies 4' : 'db4'},\n",
    "    'Symlets' : { 'Symlets 2' : 'sym2', 'Symlets 3' : 'sym3',  'Symlets 4' : 'sym4'},\n",
    "    'Coiflets' : {'Coiflets 1' : 'coif1', 'Coiflets 2' : 'coif2', 'Coiflets 3' : 'coif3', 'Coiflets 4' : 'coif4'}\n",
    "}\n",
    "\n",
    "\n",
    "\n",
    "for wersja in wersje.values():\n",
    "    lvl_slider = widgets.IntSlider(min=2, max=15, step=1, value=5, description=\"stopień\")\n",
    "    for label, wavelet in wersja.items():\n",
    "        display(widgets.interactive(draw_wavelet, label=widgets.fixed(label), wavelet=widgets.fixed(wavelet), level=lvl_slider))"
   ]
  },
  {
   "cell_type": "markdown",
   "id": "5f1b2371",
   "metadata": {},
   "source": [
    "### Zadanie 3\n",
    "Przygotuj kod w Pythonie, który dokona dekompozycji sygnału świergotliwego (chirp signal) z wykorzystaniem trzech różnych falek. Uzyskane wyniki wyświetl w czytelnej postaci. "
   ]
  },
  {
   "cell_type": "code",
   "execution_count": 4,
   "id": "bc024105",
   "metadata": {},
   "outputs": [],
   "source": [
    "def generate_signals(f=5, fs=1000):\n",
    "    # Parametry sygnału\n",
    "    t = np.linspace(0, 1, fs, endpoint=False)  # Oś czasu 1 sekunda\n",
    "\n",
    "    # a) Sygnał sinusoidalny\n",
    "    sin_wave = np.sin(2 * np.pi * f * t)\n",
    "\n",
    "    # b) Sygnał prostokątny\n",
    "    square_wave = square(2 * np.pi * f * t)  \n",
    "\n",
    "    # c) Sygnał piłokształtny\n",
    "    sawtooth_wave = sawtooth(2 * np.pi * f * t)  \n",
    "\n",
    "    # d) Sygnał świergotliwy (chirp)\n",
    "    chirp_wave = chirp(t, f0=f, f1=5*f, t1=1, method='linear')\n",
    "\n",
    "    return t, [sin_wave, square_wave, sawtooth_wave, chirp_wave]"
   ]
  },
  {
   "cell_type": "code",
   "execution_count": 5,
   "id": "c7cf77e8",
   "metadata": {},
   "outputs": [
    {
     "data": {
      "application/vnd.jupyter.widget-view+json": {
       "model_id": "6e08b9d50dc1407482027f46062fc143",
       "version_major": 2,
       "version_minor": 0
      },
      "text/plain": [
       "interactive(children=(IntSlider(value=5, description='f [Hz]', max=20, min=1), Output()), _dom_classes=('widge…"
      ]
     },
     "metadata": {},
     "output_type": "display_data"
    },
    {
     "data": {
      "application/vnd.jupyter.widget-view+json": {
       "model_id": "871cdca795fd4ffd92cc898b2aea7fdb",
       "version_major": 2,
       "version_minor": 0
      },
      "text/plain": [
       "interactive(children=(IntSlider(value=5, description='f [Hz]', max=20, min=1), Output()), _dom_classes=('widge…"
      ]
     },
     "metadata": {},
     "output_type": "display_data"
    },
    {
     "data": {
      "application/vnd.jupyter.widget-view+json": {
       "model_id": "0ba20a4b500b4c18994665a91ca97d94",
       "version_major": 2,
       "version_minor": 0
      },
      "text/plain": [
       "interactive(children=(IntSlider(value=5, description='f [Hz]', max=20, min=1), Output()), _dom_classes=('widge…"
      ]
     },
     "metadata": {},
     "output_type": "display_data"
    },
    {
     "data": {
      "application/vnd.jupyter.widget-view+json": {
       "model_id": "cb9a229094f94c4cba0d1a1c2893447e",
       "version_major": 2,
       "version_minor": 0
      },
      "text/plain": [
       "interactive(children=(IntSlider(value=5, description='f [Hz]', max=20, min=1), Output()), _dom_classes=('widge…"
      ]
     },
     "metadata": {},
     "output_type": "display_data"
    },
    {
     "data": {
      "application/vnd.jupyter.widget-view+json": {
       "model_id": "dab719dd714a464d8656527818e580f1",
       "version_major": 2,
       "version_minor": 0
      },
      "text/plain": [
       "interactive(children=(IntSlider(value=5, description='f [Hz]', max=20, min=1), Output()), _dom_classes=('widge…"
      ]
     },
     "metadata": {},
     "output_type": "display_data"
    }
   ],
   "source": [
    "def decomposition_with_wavelet(f, wavelet, label):\n",
    "    t, signals = generate_signals(f=f)\n",
    "    names = ['sinus', 'prostokątny', 'piłokształtny', 'świergotliwy']\n",
    "\n",
    "    for x, signal in enumerate(signals):\n",
    "        # Wybór poziomu\n",
    "        max_level = pywt.dwt_max_level(len(signal), pywt.Wavelet(wavelet).dec_len)\n",
    "        level = min(4, max_level)\n",
    "\n",
    "        # Dekompozycja\n",
    "        coeffs = pywt.wavedec(signal, wavelet, level=level)\n",
    "\n",
    "        # coeffs to lista: [A_n, D_n, D_{n-1}, ..., D1]\n",
    "        # A - aproksymacja, D - szczegóły\n",
    "\n",
    "        # Rysowanie\n",
    "        plt.figure(figsize=(10, 8))\n",
    "        plt.subplot(level + 2, 1, 1)\n",
    "        plt.plot(signal)\n",
    "        plt.title('Oryginalny sygnał')\n",
    "\n",
    "        for i, c in enumerate(coeffs):\n",
    "            plt.subplot(level + 2, 1, i + 2)\n",
    "            plt.plot(c)\n",
    "            if i == 0:\n",
    "                plt.title(f'Aproksymacja A{level}')\n",
    "            else:\n",
    "                plt.title(f'Szczegóły D{level - i + 1}')\n",
    "\n",
    "        plt.suptitle(f'Falka: {label}. Sygnał {names[x]}')\n",
    "        plt.tight_layout()\n",
    "        plt.show()\n",
    "\n",
    "\n",
    "falki = {\n",
    "    'Haar' : 'haar',\n",
    "    'Daubechies 2' : 'db2',\n",
    "    'Symlets 2' : 'sym2',\n",
    "    'Coiflets 2' : 'coif2',\n",
    "    'Biortogonalna' : 'bior1.3'\n",
    "}\n",
    "\n",
    "for label, wavelet in falki.items():\n",
    "    f_slider = widgets.IntSlider(min=1, max=20, step=1, value=5, description=\"f [Hz]\")\n",
    "    display(widgets.interactive(decomposition_with_wavelet, label=widgets.fixed(label), wavelet=widgets.fixed(wavelet), f=f_slider))"
   ]
  }
 ],
 "metadata": {
  "kernelspec": {
   "display_name": "venv",
   "language": "python",
   "name": "python3"
  },
  "language_info": {
   "codemirror_mode": {
    "name": "ipython",
    "version": 3
   },
   "file_extension": ".py",
   "mimetype": "text/x-python",
   "name": "python",
   "nbconvert_exporter": "python",
   "pygments_lexer": "ipython3",
   "version": "3.11.5"
  }
 },
 "nbformat": 4,
 "nbformat_minor": 5
}

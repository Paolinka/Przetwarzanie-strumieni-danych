{
 "cells": [
  {
   "cell_type": "markdown",
   "id": "a0a5ee98",
   "metadata": {},
   "source": [
    "# Lista 7"
   ]
  },
  {
   "cell_type": "code",
   "execution_count": 17,
   "id": "ced77d3b",
   "metadata": {},
   "outputs": [],
   "source": [
    "import pywt\n",
    "import numpy as np\n",
    "import matplotlib.pyplot as plt\n",
    "import ipywidgets as widgets\n",
    "from IPython.display import display\n",
    "from scipy.signal import chirp, square, sawtooth"
   ]
  },
  {
   "cell_type": "markdown",
   "id": "f998439b",
   "metadata": {},
   "source": [
    "### Zadanie 1\n",
    "Przygotuj kod w Pythonie, który wyświetli następujące typy falek: Haar, Daubechies, Symlets, Coiflets, Biortogonalna, Gaussian, Meksykański kapelusz, Morleta. W celu rozwiązania zadania można wykorzystać pakiet pywt"
   ]
  },
  {
   "cell_type": "code",
   "execution_count": null,
   "id": "27b06a31",
   "metadata": {},
   "outputs": [],
   "source": [
    "def draw_wavelet(wavelet, label, level=5):\n",
    "    try:\n",
    "        # Pobierz dane falki\n",
    "        wavelet = pywt.Wavelet(wavelet)\n",
    "        result = wavelet.wavefun(level=level)\n",
    "\n",
    "    except ValueError:\n",
    "        wavelet = pywt.ContinuousWavelet(wavelet)\n",
    "        result = wavelet.wavefun(level=level)\n",
    "\n",
    "    plt.figure(figsize=(10, 4))\n",
    "\n",
    "    if len(result) == 3:\n",
    "        phi, psi, x = result\n",
    "\n",
    "        plt.subplot(1, 2, 1)\n",
    "        plt.plot(x, phi)\n",
    "        plt.title('Funkcja skalująca (phi)')\n",
    "        plt.grid()\n",
    "\n",
    "        plt.subplot(1, 2, 2)\n",
    "        plt.plot(x, psi)\n",
    "        plt.title('Funkcja falkowa (psi)')\n",
    "        plt.grid()\n",
    "        plt.suptitle(f'Falka: {label}')\n",
    "        plt.tight_layout()\n",
    "\n",
    "    if len(result) == 2:\n",
    "        psi, x = result\n",
    "\n",
    "        plt.plot(x, psi)\n",
    "        plt.title('Funkcja falkowa (psi)')\n",
    "        plt.grid()\n",
    "        plt.suptitle(f'Falka: {label}')\n",
    "        plt.tight_layout()\n",
    "\n",
    "\n",
    "\n",
    "\n",
    "\n",
    "falki = {\n",
    "    'Haar' : 'haar',\n",
    "    'Daubechies 2' : 'db2',\n",
    "    'Symlets 2' : 'sym2',\n",
    "    'Coiflets 2' : 'coif2',\n",
    "    'Biortogonalna' : 'bior1.3',\n",
    "    'Gaussian 2' : 'gaus2',\n",
    "    'Meksykański kapelusz' : 'mexh',\n",
    "    'Morleta' : 'morl'\n",
    "}\n",
    "\n",
    "\n",
    "lvl_slider = widgets.IntSlider(min=2, max=15, step=1, value=5, description=\"stopień\")\n",
    "\n",
    "for label, wavelet in falki.items():\n",
    "    display(widgets.interactive(draw_wavelet, label=widgets.fixed(label), wavelet=widgets.fixed(wavelet), level=lvl_slider))"
   ]
  },
  {
   "cell_type": "markdown",
   "id": "e71da2f5",
   "metadata": {},
   "source": [
    "### Zadanie 2\n",
    "Przygotuj kod w Pythonie, który wyświetli falkę Daubechies w różnych wersjach (db1, db2, itd.) i dla różnych parametrów. "
   ]
  },
  {
   "cell_type": "code",
   "execution_count": null,
   "id": "85be1fff",
   "metadata": {},
   "outputs": [],
   "source": [
    "wersje = {\n",
    "    'Daubechies' : {'Daubechies 1' : 'db1', 'Daubechies 2' : 'db2', 'Daubechies 3' : 'db3', 'Daubechies 4' : 'db4'},\n",
    "    'Symlets' : { 'Symlets 2' : 'sym2', 'Symlets 3' : 'sym3',  'Symlets 4' : 'sym4'},\n",
    "    'Coiflets' : {'Coiflets 1' : 'coif1', 'Coiflets 2' : 'coif2', 'Coiflets 3' : 'coif3', 'Coiflets 4' : 'coif4'}\n",
    "}\n",
    "\n",
    "\n",
    "\n",
    "for wersja in wersje.values():\n",
    "    lvl_slider = widgets.IntSlider(min=2, max=15, step=1, value=5, description=\"stopień\")\n",
    "    for label, wavelet in wersja.items():\n",
    "        display(widgets.interactive(draw_wavelet, label=widgets.fixed(label), wavelet=widgets.fixed(wavelet), level=lvl_slider))"
   ]
  },
  {
   "cell_type": "markdown",
   "id": "5f1b2371",
   "metadata": {},
   "source": [
    "### Zadanie 3\n",
    "Przygotuj kod w Pythonie, który dokona dekompozycji sygnału świergotliwego (chirp signal) z wykorzystaniem trzech różnych falek. Uzyskane wyniki wyświetl w czytelnej postaci. "
   ]
  },
  {
   "cell_type": "code",
   "execution_count": 19,
   "id": "bc024105",
   "metadata": {},
   "outputs": [],
   "source": [
    "def generate_signals(f=5, fs=1000):\n",
    "    # Parametry sygnału\n",
    "    t = np.linspace(0, 1, fs, endpoint=False)  # Oś czasu 1 sekunda\n",
    "\n",
    "    # a) Sygnał sinusoidalny\n",
    "    sin_wave = np.sin(2 * np.pi * f * t)\n",
    "\n",
    "    # b) Sygnał prostokątny\n",
    "    square_wave = square(2 * np.pi * f * t)  \n",
    "\n",
    "    # c) Sygnał piłokształtny\n",
    "    sawtooth_wave = sawtooth(2 * np.pi * f * t)  \n",
    "\n",
    "    # d) Sygnał świergotliwy (chirp)\n",
    "    chirp_wave = chirp(t, f0=f, f1=5*f, t1=1, method='linear')\n",
    "\n",
    "    return t, [sin_wave, square_wave, sawtooth_wave, chirp_wave]"
   ]
  },
  {
   "cell_type": "code",
   "execution_count": 23,
   "id": "c7cf77e8",
   "metadata": {},
   "outputs": [
    {
     "data": {
      "application/vnd.jupyter.widget-view+json": {
       "model_id": "dc929e2148d74bb8bfb52f312b10de26",
       "version_major": 2,
       "version_minor": 0
      },
      "text/plain": [
       "interactive(children=(IntSlider(value=5, description='f [Hz]', max=20, min=1), Output()), _dom_classes=('widge…"
      ]
     },
     "metadata": {},
     "output_type": "display_data"
    },
    {
     "data": {
      "application/vnd.jupyter.widget-view+json": {
       "model_id": "90c76745622f4a0bab437e90d8032b8d",
       "version_major": 2,
       "version_minor": 0
      },
      "text/plain": [
       "interactive(children=(IntSlider(value=5, description='f [Hz]', max=20, min=1), Output()), _dom_classes=('widge…"
      ]
     },
     "metadata": {},
     "output_type": "display_data"
    },
    {
     "data": {
      "application/vnd.jupyter.widget-view+json": {
       "model_id": "d82fc09f8e2d491da5c3b40635804906",
       "version_major": 2,
       "version_minor": 0
      },
      "text/plain": [
       "interactive(children=(IntSlider(value=5, description='f [Hz]', max=20, min=1), Output()), _dom_classes=('widge…"
      ]
     },
     "metadata": {},
     "output_type": "display_data"
    },
    {
     "data": {
      "application/vnd.jupyter.widget-view+json": {
       "model_id": "1ae7d5c187904fd8adad8d857811b9c7",
       "version_major": 2,
       "version_minor": 0
      },
      "text/plain": [
       "interactive(children=(IntSlider(value=5, description='f [Hz]', max=20, min=1), Output()), _dom_classes=('widge…"
      ]
     },
     "metadata": {},
     "output_type": "display_data"
    },
    {
     "data": {
      "application/vnd.jupyter.widget-view+json": {
       "model_id": "99c34c2f358148368b02a9bf31f50224",
       "version_major": 2,
       "version_minor": 0
      },
      "text/plain": [
       "interactive(children=(IntSlider(value=5, description='f [Hz]', max=20, min=1), Output()), _dom_classes=('widge…"
      ]
     },
     "metadata": {},
     "output_type": "display_data"
    }
   ],
   "source": [
    "def decomposition_with_wavelet(f, wavelet, label):\n",
    "    t, signals = generate_signals(f=f)\n",
    "    names = ['sinus', 'prostokątny', 'piłokształtny', 'świergotliwy']\n",
    "\n",
    "    for x, signal in enumerate(signals):\n",
    "        # Wybór poziomu\n",
    "        max_level = pywt.dwt_max_level(len(signal), pywt.Wavelet(wavelet).dec_len)\n",
    "        level = min(4, max_level)\n",
    "\n",
    "        # Dekompozycja\n",
    "        coeffs = pywt.wavedec(signal, wavelet, level=level)\n",
    "\n",
    "        # coeffs to lista: [A_n, D_n, D_{n-1}, ..., D1]\n",
    "        # A - aproksymacja, D - szczegóły\n",
    "\n",
    "        # Rysowanie\n",
    "        plt.figure(figsize=(10, 8))\n",
    "        plt.subplot(level + 2, 1, 1)\n",
    "        plt.plot(signal)\n",
    "        plt.title('Oryginalny sygnał')\n",
    "\n",
    "        for i, c in enumerate(coeffs):\n",
    "            plt.subplot(level + 2, 1, i + 2)\n",
    "            plt.plot(c)\n",
    "            if i == 0:\n",
    "                plt.title(f'Aproksymacja A{level}')\n",
    "            else:\n",
    "                plt.title(f'Szczegóły D{level - i + 1}')\n",
    "\n",
    "        plt.suptitle(f'Falka: {label}. Sygnał {names[x]}')\n",
    "        plt.tight_layout()\n",
    "        plt.show()\n",
    "\n",
    "\n",
    "falki = {\n",
    "    'Haar' : 'haar',\n",
    "    'Daubechies 2' : 'db2',\n",
    "    'Symlets 2' : 'sym2',\n",
    "    'Coiflets 2' : 'coif2',\n",
    "    'Biortogonalna' : 'bior1.3'\n",
    "}\n",
    "\n",
    "for label, wavelet in falki.items():\n",
    "    f_slider = widgets.IntSlider(min=1, max=20, step=1, value=5, description=\"f [Hz]\")\n",
    "    display(widgets.interactive(decomposition_with_wavelet, label=widgets.fixed(label), wavelet=widgets.fixed(wavelet), f=f_slider))"
   ]
  }
 ],
 "metadata": {
  "kernelspec": {
   "display_name": "venv",
   "language": "python",
   "name": "python3"
  },
  "language_info": {
   "codemirror_mode": {
    "name": "ipython",
    "version": 3
   },
   "file_extension": ".py",
   "mimetype": "text/x-python",
   "name": "python",
   "nbconvert_exporter": "python",
   "pygments_lexer": "ipython3",
   "version": "3.11.5"
  }
 },
 "nbformat": 4,
 "nbformat_minor": 5
}

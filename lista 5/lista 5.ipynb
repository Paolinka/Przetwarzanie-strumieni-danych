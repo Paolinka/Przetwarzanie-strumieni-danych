{
 "cells": [
  {
   "cell_type": "markdown",
   "metadata": {},
   "source": [
    "# Lista 5"
   ]
  },
  {
   "cell_type": "code",
   "execution_count": 1,
   "metadata": {},
   "outputs": [],
   "source": [
    "import numpy as np\n",
    "import matplotlib.pyplot as plt\n",
    "import ipywidgets as widgets\n",
    "from IPython.display import display\n",
    "from scipy.signal import chirp, square, sawtooth, unit_impulse, hilbert"
   ]
  },
  {
   "cell_type": "markdown",
   "metadata": {},
   "source": [
    "### Zadanie 1\n",
    "Przygotuj w Pythonie kod, który wyznaczy widmo amplitudowe sygnału sinusoidalnego.  "
   ]
  },
  {
   "cell_type": "markdown",
   "metadata": {},
   "source": [
    "Jeżeli sygnał poddawany transformacji Fouriera jest rzeczywisty, wtedy zawsze otrzymamy dwie kopie widma, druga kopia będzie lustrzanym odbiciem pierwszej (dokładnie: będzie jej zespolonym sprzężeniem). Często potrzebujemy tylko jednej kopii widma. Funkcja np.fft.rfft oblicza widmo rzeczywistego sygnału. Funkcja np.fft.fftfreq oblicza częstotliwość dla każdego punktu widmowego, argumentami funkcji są: liczba wartości widma (długość transformaty) oraz okres próbkowania. Ponadto skalujemy widmo dzieląc je przez połowę długości transformaty, aby wartości widmowe reprezentowały energię poszczególnych składowych (przez połowę długości, ponieważ energia sygnału rozkłada się równomiernie na dwie części widma, a my obserwujemy tylko jedną z nich)."
   ]
  },
  {
   "cell_type": "code",
   "execution_count": 2,
   "metadata": {},
   "outputs": [
    {
     "data": {
      "application/vnd.jupyter.widget-view+json": {
       "model_id": "3455441f216d4f76b8faba7e157895e1",
       "version_major": 2,
       "version_minor": 0
      },
      "text/plain": [
       "interactive(children=(IntSlider(value=5, description='f [Hz]', max=20, min=1), IntSlider(value=200, descriptio…"
      ]
     },
     "metadata": {},
     "output_type": "display_data"
    }
   ],
   "source": [
    "def amplituda_sinus(f=5, fs=1000):\n",
    "    \n",
    "    t = np.linspace(0, 1, fs, endpoint=False)\n",
    "    sin_wave = np.sin(2 * np.pi * f * t)\n",
    "    \n",
    "    widmo = np.fft.fft(sin_wave)\n",
    "    widmo_amp_pelne = np.abs(widmo)\n",
    "\n",
    "    widmo_amp_rzecz = np.abs(np.fft.rfft(sin_wave)) / (len(sin_wave)/2)\n",
    "    f_widmo = np.fft.rfftfreq(len(sin_wave), 1/fs)\n",
    "\n",
    "    plt.figure(figsize=(8, 6))\n",
    "    plt.scatter(t, sin_wave, color='red')\n",
    "    plt.plot(t, sin_wave, linewidth=1)\n",
    "    plt.xlabel(\"Czas [s]\")\n",
    "    plt.ylabel(\"Amplituda\")\n",
    "    plt.title(f\"Sygnał sinusoidalny: f={f}Hz, fs={fs}Hz\")\n",
    "    plt.grid()\n",
    "    \n",
    "\n",
    "    plt.figure(figsize=(10, 4))\n",
    "    plt.subplot(1, 2, 1)\n",
    "    plt.plot(widmo_amp_pelne)\n",
    "    plt.xlabel('indeks widma')\n",
    "    plt.ylabel('amplituda widma')\n",
    "    plt.title(f'Pełne widmo sygnału sinusoidalnego f={f}Hz')\n",
    "    plt.grid()\n",
    "\n",
    "    plt.subplot(1, 2, 2)\n",
    "    plt.plot(f_widmo, widmo_amp_rzecz)\n",
    "    plt.xlabel('częstotliwość [Hz]')\n",
    "    plt.ylabel('amplituda widma')\n",
    "    plt.title(f'Widmo \"rzeczywiste\" sygnału sinusoidalnego f={f}Hz')\n",
    "    plt.grid()\n",
    "    plt.tight_layout()\n",
    "    \n",
    "    \n",
    "\n",
    "\n",
    "f_slider = widgets.IntSlider(min=1, max=20, step=1, value=5, description=\"f [Hz]\")\n",
    "fs_slider = widgets.IntSlider(min=10, max=1000, step=10, value=200, description=\"fs [Hz]\")\n",
    "\n",
    "display(widgets.interactive(amplituda_sinus, f=f_slider, fs=fs_slider))"
   ]
  },
  {
   "cell_type": "markdown",
   "metadata": {},
   "source": [
    "### Zadanie 2\n",
    "Przygotuj w Pythonie kod, który wyznaczy widmo amplitudowe sygnału sinusoidalnego w skali decybelowej. "
   ]
  },
  {
   "cell_type": "code",
   "execution_count": 3,
   "metadata": {},
   "outputs": [
    {
     "data": {
      "application/vnd.jupyter.widget-view+json": {
       "model_id": "63478bfb3fe341e59f8b4093f5829681",
       "version_major": 2,
       "version_minor": 0
      },
      "text/plain": [
       "interactive(children=(IntSlider(value=5, description='f [Hz]', max=20, min=1), IntSlider(value=200, descriptio…"
      ]
     },
     "metadata": {},
     "output_type": "display_data"
    }
   ],
   "source": [
    "def amplituda_sinus_decybel(f=5, fs=1000):\n",
    "    \n",
    "    t = np.linspace(0, 1, fs, endpoint=False)\n",
    "    sin_wave = np.sin(2 * np.pi * f * t)\n",
    "    \n",
    "\n",
    "    widmo_amp_rzecz = np.abs(np.fft.rfft(sin_wave)) / len(sin_wave) * 2\n",
    "    f_widmo = np.fft.rfftfreq(len(sin_wave), 1/fs)\n",
    "    widmo_amp_rzecz_db = 20 * np.log10(np.maximum(widmo_amp_rzecz, 1e-12))\n",
    "\n",
    "\n",
    "    plt.figure(figsize=(8, 6))\n",
    "    plt.plot(f_widmo, widmo_amp_rzecz_db)\n",
    "    plt.xlabel('częstotliwość [Hz]')\n",
    "    plt.ylabel('amplituda widma [dB]')\n",
    "    plt.title(f'Widmo sygnału sinusoidalnego f={f}Hz - skala decybelowa')\n",
    "    plt.grid()\n",
    "\n",
    "\n",
    "display(widgets.interactive(amplituda_sinus_decybel, f=f_slider, fs=fs_slider))"
   ]
  },
  {
   "cell_type": "markdown",
   "metadata": {},
   "source": [
    "### Zadanie 3\n",
    "Przygotuj w Pythonie kod, który wyznaczy widmo amplitudowe sygnałów z zadania 1 na liście 1. "
   ]
  },
  {
   "cell_type": "code",
   "execution_count": 4,
   "metadata": {},
   "outputs": [
    {
     "data": {
      "application/vnd.jupyter.widget-view+json": {
       "model_id": "715ec696e1ad486ba75c4aa0ea84f5c9",
       "version_major": 2,
       "version_minor": 0
      },
      "text/plain": [
       "interactive(children=(IntSlider(value=10, description='f [Hz]', max=20, min=1), IntSlider(value=300, descripti…"
      ]
     },
     "metadata": {},
     "output_type": "display_data"
    }
   ],
   "source": [
    "def amplituda_sinus(f=5, fs=1000):\n",
    "    \n",
    "    t = np.linspace(0, 1, fs, endpoint=False)\n",
    "    \n",
    "    signals = {\n",
    "    'Sinus' : np.sin(2 * np.pi * f * t),\n",
    "    'Prostokątny' : square(2 * np.pi * f * t),\n",
    "    'Piłokształtny' : sawtooth(2 * np.pi * f * t),\n",
    "    'Świergotliwy' : chirp(t, f0=5, f1=2*f, t1=1, method='linear'),\n",
    "    'Superpozycja sinus cosinus' : np.sin(2 * np.pi * f * t) + 0.5 * np.cos(2 * np.pi * 2*f * t),\n",
    "    'Impuls jednostkowy' : unit_impulse(fs, idx=fs//2)\n",
    "    }\n",
    "\n",
    "    \n",
    "    \n",
    "    for (sig_label, signal) in signals.items():\n",
    "        widmo = np.fft.fft(signal)\n",
    "        widmo_amp_pelne = np.abs(widmo)\n",
    "\n",
    "        widmo_amp_rzecz = np.abs(np.fft.rfft(signal)) / len(signal) * 2\n",
    "        f_widmo = np.fft.rfftfreq(len(signal), 1/fs)\n",
    "        \n",
    "        # Tworzenie wykresów\n",
    "        fig, axes = plt.subplots(1, 3, figsize=(12, 4))\n",
    "        axes.flatten()\n",
    "\n",
    "        axes[0].plot(t, signal, linewidth=1)\n",
    "        axes[0].set_xlabel(\"Czas [s]\")\n",
    "        axes[0].set_ylabel(\"Amplituda\")\n",
    "        axes[0].set_title(f\"Sygnał {sig_label}: f0={5}Hz, f1={2*f}Hz fs={fs}Hz\" if sig_label=='Świergotliwy' \n",
    "                          else f\"Sygnał {sig_label}: f={f}Hz, fs={fs}Hz\")\n",
    "        axes[0].grid()\n",
    "        \n",
    "        axes[1].plot(widmo_amp_pelne)\n",
    "        axes[1].set_xlabel('indeks widma')\n",
    "        axes[1].set_ylabel('amplituda widma')\n",
    "        axes[1].set_title(f'Pełne widmo sygnału')\n",
    "        axes[1].grid()\n",
    "\n",
    "        \n",
    "        axes[2].plot(f_widmo, widmo_amp_rzecz)\n",
    "        axes[2].set_xlabel('częstotliwość [Hz]')\n",
    "        axes[2].set_ylabel('amplituda widma')\n",
    "        axes[2].set_title(f'Widmo \"rzeczywiste\" sygnału')\n",
    "        axes[2].grid()\n",
    "        fig.tight_layout()\n",
    "    \n",
    "    \n",
    "\n",
    "\n",
    "f_slider = widgets.IntSlider(min=1, max=20, step=1, value=10, description=\"f [Hz]\")\n",
    "fs_slider = widgets.IntSlider(min=100, max=1000, step=10, value=300, description=\"fs [Hz]\")\n",
    "\n",
    "display(widgets.interactive(amplituda_sinus, f=f_slider, fs=fs_slider))"
   ]
  },
  {
   "cell_type": "markdown",
   "metadata": {},
   "source": [
    "### Zadanie 4\n",
    "Przygotuj w Pythonie kod, który wyznaczy widmo fazowe sygnału sinusoidalnego."
   ]
  },
  {
   "cell_type": "code",
   "execution_count": 5,
   "metadata": {},
   "outputs": [
    {
     "data": {
      "application/vnd.jupyter.widget-view+json": {
       "model_id": "811684202ee449748de108c35ef9f848",
       "version_major": 2,
       "version_minor": 0
      },
      "text/plain": [
       "interactive(children=(IntSlider(value=10, description='f [Hz]', max=20, min=1), IntSlider(value=300, descripti…"
      ]
     },
     "metadata": {},
     "output_type": "display_data"
    }
   ],
   "source": [
    "def widmo_fazowe(f=5, fs=1000):\n",
    "\n",
    "    t = np.linspace(0, 1, fs, endpoint=False)\n",
    "    sin_wave = np.sin(2 * np.pi * f * t)    \n",
    "\n",
    "    widmo_faz = np.angle(np.fft.rfft(sin_wave))\n",
    "    f_widmo = np.fft.rfftfreq(len(sin_wave), 1/fs)\n",
    "\n",
    "    plt.plot(f_widmo, widmo_faz)\n",
    "    plt.xlabel('częstotliwość [Hz]')\n",
    "    plt.ylabel('faza [rad]')\n",
    "    plt.title('Widmo fazowe sygnału sinusoidalnego')\n",
    "\n",
    "f_slider = widgets.IntSlider(min=1, max=20, step=1, value=10, description=\"f [Hz]\")\n",
    "fs_slider = widgets.IntSlider(min=10, max=1000, step=10, value=300, description=\"fs [Hz]\")\n",
    "\n",
    "display(widgets.interactive(widmo_fazowe, f=f_slider, fs=fs_slider))\n",
    "    "
   ]
  },
  {
   "cell_type": "markdown",
   "metadata": {},
   "source": [
    "### Zadanie 5\n",
    "Przygotuj w Pythonie kod, który wyznaczy obwiednie dla sygnału świergotliwego (chirp signal)"
   ]
  },
  {
   "cell_type": "markdown",
   "metadata": {},
   "source": [
    "Wyznaczam obwiednię za pomocą transformacji Hilberta. Obwiednia jest obliczana jako moduł wartości zespolonej uzyskanej z sygnału."
   ]
  },
  {
   "cell_type": "code",
   "execution_count": null,
   "metadata": {},
   "outputs": [
    {
     "data": {
      "application/vnd.jupyter.widget-view+json": {
       "model_id": "c48a38a356bc464f914228c007b800f4",
       "version_major": 2,
       "version_minor": 0
      },
      "text/plain": [
       "interactive(children=(IntSlider(value=10, description='f [Hz]', max=20, min=1), IntSlider(value=300, descripti…"
      ]
     },
     "metadata": {},
     "output_type": "display_data"
    }
   ],
   "source": [
    "def obwiednia_chirp(f=5, fs=1000):\n",
    "    \n",
    "    t = np.linspace(0, 1, fs, endpoint=False)\n",
    "    chirp_signal = chirp(t, f0=5, f1=3*f, t1=1, method='linear')\n",
    "\n",
    "    transf_hilberta = hilbert(chirp_signal)\n",
    "    obwiednia = np.abs(transf_hilberta)\n",
    "\n",
    "    plt.figure(figsize=(10, 5))\n",
    "    plt.plot(t, chirp_signal, label=f'Sygnał świergotliwy: : f0={5}Hz, f1={3*f}Hz', alpha=0.7)\n",
    "    plt.plot(t, obwiednia, 'r', label='Obwiednia', linewidth=2)\n",
    "    plt.xlabel('Czas [s]')\n",
    "    plt.ylabel('Amplituda')\n",
    "    plt.title('Obwiednia sygnału świergotliwego')\n",
    "    plt.legend()\n",
    "    plt.grid()\n",
    "\n",
    "f_slider = widgets.IntSlider(min=1, max=20, step=1, value=10, description=\"f [Hz]\")\n",
    "fs_slider = widgets.IntSlider(min=10, max=1000, step=10, value=300, description=\"fs [Hz]\")\n",
    "\n",
    "display(widgets.interactive(obwiednia_chirp, f=f_slider, fs=fs_slider))"
   ]
  }
 ],
 "metadata": {
  "kernelspec": {
   "display_name": "venv",
   "language": "python",
   "name": "python3"
  },
  "language_info": {
   "codemirror_mode": {
    "name": "ipython",
    "version": 3
   },
   "file_extension": ".py",
   "mimetype": "text/x-python",
   "name": "python",
   "nbconvert_exporter": "python",
   "pygments_lexer": "ipython3",
   "version": "3.11.5"
  }
 },
 "nbformat": 4,
 "nbformat_minor": 2
}

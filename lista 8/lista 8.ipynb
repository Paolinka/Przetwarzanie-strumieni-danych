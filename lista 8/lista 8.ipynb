{
 "cells": [
  {
   "cell_type": "markdown",
   "id": "316355cb",
   "metadata": {},
   "source": [
    "# LISTA 8"
   ]
  },
  {
   "cell_type": "code",
   "execution_count": 21,
   "id": "ac3d67bb",
   "metadata": {},
   "outputs": [],
   "source": [
    "import numpy as np\n",
    "import matplotlib.pyplot as plt\n",
    "import ipywidgets as widgets\n",
    "from IPython.display import display\n",
    "from scipy.signal import chirp, sawtooth, square, unit_impulse, spectrogram\n",
    "from scipy.fft import fft, fftfreq\n",
    "from PyEMD import EMD\n"
   ]
  },
  {
   "cell_type": "markdown",
   "id": "b651929d",
   "metadata": {},
   "source": [
    "### Zadanie 1\n",
    "Przygotuj kod w Pythonie, który wygeneruje spektrogramy dla sygnałów z zadania 1 na liście 1."
   ]
  },
  {
   "cell_type": "code",
   "execution_count": 22,
   "id": "79084120",
   "metadata": {},
   "outputs": [],
   "source": [
    "def generate_signals(f=5, fs=1000):\n",
    "    # Parametry sygnału\n",
    "    t = np.linspace(0, 1, fs, endpoint=False)  # Oś czasu 1 sekunda\n",
    "\n",
    "    # a) Sygnał sinusoidalny\n",
    "    sin_wave = np.sin(2 * np.pi * f * t)\n",
    "\n",
    "    # b) Sygnał prostokątny\n",
    "    square_wave = square(2 * np.pi * f * t)  \n",
    "\n",
    "    # c) Sygnał piłokształtny\n",
    "    sawtooth_wave = sawtooth(2 * np.pi * f * t)  \n",
    "\n",
    "    # d) Sygnał świergotliwy (chirp)\n",
    "    chirp_wave = chirp(t, f0=f, f1=5*f, t1=1, method='linear')\n",
    "\n",
    "    # e) Superpozycja sinusa i cosinusa\n",
    "    superposition_wave = np.sin(2 * np.pi * f * t) + 0.5 * np.cos(2 * np.pi * 2 * f * t)\n",
    "\n",
    "    # f) Impuls jednostkowy\n",
    "    impulse_wave = unit_impulse(fs, idx=fs//2)\n",
    "\n",
    "    return t, [sin_wave, square_wave, sawtooth_wave, chirp_wave, superposition_wave, impulse_wave]"
   ]
  },
  {
   "cell_type": "code",
   "execution_count": 23,
   "id": "1b0350c9",
   "metadata": {},
   "outputs": [
    {
     "data": {
      "application/vnd.jupyter.widget-view+json": {
       "model_id": "e480cf0f95994a29988f9e5a76f388fd",
       "version_major": 2,
       "version_minor": 0
      },
      "text/plain": [
       "interactive(children=(IntSlider(value=5, description='f [Hz]', max=20, min=1), IntSlider(value=1000, descripti…"
      ]
     },
     "metadata": {},
     "output_type": "display_data"
    }
   ],
   "source": [
    "def draw_spectograms(f=5, fs=1000):\n",
    "    t, signals = generate_signals(f, fs)\n",
    "    titles = ['Sygnał sinusoidalny', 'Sygnał prostokątny', 'Sygnał piłokształtny', \n",
    "              'Sygnał świergotliwy', 'Sygnał superpozycyjny', 'Sygnał impulsowy']\n",
    "\n",
    "    fig, axs = plt.subplots(3, 2, figsize=(12, 8))\n",
    "    for i, signal in enumerate(signals):\n",
    "        ax = axs[i // 2, i % 2]\n",
    "        f_spec, t_spec, Sxx = spectrogram(signal, fs)\n",
    "        ax.pcolormesh(t_spec, f_spec, Sxx, shading='gouraud')\n",
    "        ax.set_title(titles[i])\n",
    "        ax.set_ylabel('Częstotliwość [Hz]')\n",
    "        ax.set_xlabel('Czas [s]')\n",
    "        ax.set_ylim(0, 2*f)  # Ograniczenie do 2*f\n",
    "        \n",
    "    plt.tight_layout()\n",
    "    \n",
    "\n",
    "f_slider = widgets.IntSlider(min=1, max=20, step=1, value=5, description=\"f [Hz]\")\n",
    "fs_slider = widgets.IntSlider(min=100, max=2000, step=100, value=1000, description=\"fs [Hz]\")\n",
    "\n",
    "display(widgets.interactive(draw_spectograms, f=f_slider, fs=fs_slider))"
   ]
  },
  {
   "cell_type": "markdown",
   "id": "06ec6e4c",
   "metadata": {},
   "source": [
    "### Zadanie 2\n",
    "Przygotuj w Pythonie kod bazując na pakiecie emd, który dokona dekompozycji sygnału świergotliwego (chirp) oraz wyznaczy widmo każdej mody."
   ]
  },
  {
   "cell_type": "code",
   "execution_count": 35,
   "id": "40b4215c",
   "metadata": {},
   "outputs": [
    {
     "data": {
      "application/vnd.jupyter.widget-view+json": {
       "model_id": "ff166839f49a4279aa1cba11be9d6d30",
       "version_major": 2,
       "version_minor": 0
      },
      "text/plain": [
       "interactive(children=(IntSlider(value=5, description='f [Hz]', max=20, min=1), IntSlider(value=1000, descripti…"
      ]
     },
     "metadata": {},
     "output_type": "display_data"
    }
   ],
   "source": [
    "def make_emd(f=5, fs=1000):\n",
    "    t, signals = generate_signals(f, fs)\n",
    "    titles = ['Sygnał sinusoidalny', 'Sygnał prostokątny', 'Sygnał piłokształtny', \n",
    "              'Sygnał świergotliwy', 'Sygnał superpozycyjny', 'Sygnał impulsowy']\n",
    "    \n",
    "    for signal, title in zip(signals, titles):\n",
    "        # Dekompzycja EMD\n",
    "        emd = EMD()\n",
    "        imfs = emd.emd(signal, t)\n",
    "\n",
    "        # Rysowanie IMF i ich widm\n",
    "        if len(imfs) == 0:\n",
    "            print(\"Brak IMF do wyświetlenia.\")\n",
    "            continue\n",
    "        fig, axs = plt.subplots(len(imfs), 2, figsize=(10, 2 * len(imfs)))\n",
    "        if len(imfs) == 1:\n",
    "            axs = np.expand_dims(axs, axis=0)  # zapewnij indeksowanie [i, 0] dla 1 IMF\n",
    "        for i, imf in enumerate(imfs):\n",
    "            # IMF w dziedzinie czasu\n",
    "            axs[i, 0].plot(t, imf)\n",
    "            axs[i, 0].set_title(f'IMF {i+1}')\n",
    "            axs[i, 0].set_xlabel('Czas [s]')\n",
    "            axs[i, 0].set_ylabel('Amplituda')\n",
    "            fig.suptitle(title)\n",
    "\n",
    "            # Widmo IMF\n",
    "            N = len(imf)\n",
    "            freqs = fftfreq(N, 1/fs)\n",
    "            spectrum = np.abs(fft(imf))\n",
    "            axs[i, 1].plot(freqs[:N//2], spectrum[:N//2])\n",
    "            axs[i, 1].set_title(f'Widmo IMF {i+1}')\n",
    "            axs[i, 1].set_xlabel('Częstotliwość [Hz]')\n",
    "            axs[i, 1].set_ylabel('Amplituda')\n",
    "        plt.tight_layout()\n",
    "        plt.show()\n",
    "        \n",
    "    \n",
    "\n",
    "f_slider_emd = widgets.IntSlider(min=1, max=20, step=1, value=5, description=\"f [Hz]\")\n",
    "fs_slider_emd = widgets.IntSlider(min=100, max=2000, step=100, value=1000, description=\"fs [Hz]\")\n",
    "\n",
    "display(widgets.interactive(make_emd, f=f_slider_emd, fs=fs_slider_emd))"
   ]
  },
  {
   "cell_type": "markdown",
   "id": "7af841b9",
   "metadata": {},
   "source": [
    "### Zadanie 3\n",
    "Przygotuj w Pythonie kod bazując na pakiecie emd, który dokona dekompozycji dowolnie zbudowanego sygnału będącego superpozycją kilku funkcji sinus i cosinus. Wyznacz widmo każdej z mod"
   ]
  },
  {
   "cell_type": "markdown",
   "id": "8425e5d2",
   "metadata": {},
   "source": [
    "### Zadanie 4\n",
    "Przygotuj w Pythonie kod bazując na pakiecie emd, który dokona dekompozycji sygnału załadowanego z pliku np. csv. Wyznacz widmo każdej z mod."
   ]
  },
  {
   "cell_type": "code",
   "execution_count": null,
   "id": "6f78362f",
   "metadata": {},
   "outputs": [],
   "source": []
  }
 ],
 "metadata": {
  "kernelspec": {
   "display_name": "venv",
   "language": "python",
   "name": "python3"
  },
  "language_info": {
   "codemirror_mode": {
    "name": "ipython",
    "version": 3
   },
   "file_extension": ".py",
   "mimetype": "text/x-python",
   "name": "python",
   "nbconvert_exporter": "python",
   "pygments_lexer": "ipython3",
   "version": "3.11.5"
  }
 },
 "nbformat": 4,
 "nbformat_minor": 5
}
